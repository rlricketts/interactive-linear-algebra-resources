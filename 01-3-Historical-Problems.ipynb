{
 "cells": [
  {
   "cell_type": "markdown",
   "id": "00506264",
   "metadata": {},
   "source": [
    "# 'Hundred' Historical Problems\n",
    "\n",
    "<p>No we will not work through 100 problems so don't worry. Rather this is a reference to a set of prolblems that apear in countless variontion throughout historical texts from around the world.  These problems usually involve purchasing some combination of 100 of a selection of objects, animals, etc. with 100 units of currency.  The trick being the varying costs of the objects and the requirement to be exact with the amount of currency used.</p>\n",
    "\n",
    "<p>Each of these problems lend themselves to finding solutions through linear algebra techniques.  Though the techniques we will use will be familiar we will find, that due to the constraints of the problems, we will have a solution set other than one, infinitely many, or none. This will provided us with a deeper understanding of the applications of the concepts we have been learning.</p>\n",
    "\n",
    "<p>We will explore this type of problem through the <em>Hundred Foul Problem</em> from the 5th Century text <em>Mathematical Manual</em> by Zhang Qiujian.</p>\n",
    "\n",
    "<p>The setup is as follows:</p>\n",
    "\n",
    "> A rooster is worth five coins, a hen three coins, and 3 chicks one coin. With 100 coins we buy 100 of them. How many roosters, hens, and chicks can we buy?"
   ]
  },
  {
   "cell_type": "markdown",
   "id": "4f02f46c",
   "metadata": {},
   "source": [
    "## 1. Setting up the Problem\n",
    "\n",
    "<p>As this is not a trick problem, the first step is to create at least two linear equations from the information given that can be used to create a linear system to be analyzed and solved.</p>\n",
    "\n",
    "Try do do so now.\n",
    "\n",
    "<br>\n",
    "\n",
    "<details>\n",
    "    <summary>Click here a hint.</summary>\n",
    "    \n",
    "    The linear system will consist of two equations, described by the first two sentences. They are a bit easier to recoginze if we reword these sentences:\n",
    "    \n",
    "    We have 100 coins and a rooster is worth five coins, a hen three coins, and 3 chicks one coin.\n",
    "    \n",
    "    Of the roosters, hens, and chicks we will buy 100 total animals.\n",
    "</details>\n",
    "<br>\n",
    "Keep trying before looking below.\n",
    "<hr>\n",
    "<br>\n",
    "<br>\n",
    "<br>\n",
    "<br>\n",
    "<br>\n",
    "<br>\n",
    "<br>\n",
    "<br>\n",
    "<br>\n",
    "<br>\n",
    "<br>\n",
    "<br>\n",
    "<br>\n",
    "<br>\n",
    "<br>\n",
    "<br>\n",
    "<br>\n",
    "<br>\n",
    "<br>\n",
    "<br>\n",
    "<br>\n",
    "<br>\n",
    "<br>\n",
    "<br>\n",
    "<br>\n",
    "<br>\n",
    "<br>\n",
    "<br>\n",
    "<br>\n",
    "<br>\n",
    "<br>\n",
    "<br>"
   ]
  },
  {
   "cell_type": "markdown",
   "id": "68c506a2",
   "metadata": {},
   "source": [
    "## 2. Solving the Problem\n",
    "\n",
    "<p>If we say $roosters = x_1$, $hens = x_2$, and $chicks = x_3$, we know that after our purchase we will have 100 total animals of some combination of these three types. Therefore:</p>\n",
    "\n",
    "\\begin{eqnarray}\n",
    "\tx_1 + x_2 + x_3 = 100\n",
    "\\end{eqnarray}\n",
    "\n",
    "<p>Additionally, we know the value of each type of animal and the total which we have to spend.  Therefore:</p>\n",
    "\n",
    "\\begin{eqnarray}\n",
    "\t5x_1 + x_2 + \\frac{1}{3}x_3 = 100\n",
    "\\end{eqnarray}\n",
    "\n",
    "<p>Giving us the linear system:</p>\n",
    "\n",
    "\\begin{vmatrix}\n",
    "    x_1 + x_2 + x_3 = 100\\\\\n",
    "    5x_1 + x_2 + \\frac{1}{3}x_3 = 100\n",
    "\\end{vmatrix}\n",
    "\n",
    "With this system we get the augmented matrix:\n",
    "\n",
    "\\begin{bmatrix}\n",
    "    1 & 1 & 1 & 100\\\\\n",
    "    5 & 2 & \\frac{1}{3} & 100\n",
    "\\end{bmatrix}\n",
    "\n",
    "Coverted to reduced row eschelon form (see if you can replicate this by hand):\n",
    "\n",
    "\\begin{bmatrix}\n",
    "    1 & 0 & -\\frac{4}{3} & -100\\\\\n",
    "    0 & 1 & \\frac{7}{3} & 200\n",
    "\\end{bmatrix}\n",
    "\n",
    "Sovling for the leading variables ($x_1$ and $x_2$) with the free variable ($x_3$) results in the following:\n",
    "\n",
    "$$\n",
    "\\begin{matrix}\n",
    "    \\begin{vmatrix} \n",
    "        x_1 - \\frac{4}{3}x_3 = - 100\\\\\n",
    "        x_2 + \\frac{1}{3}x_3 = 200\n",
    "    \\end{vmatrix} \n",
    "    & \n",
    "    \\begin{matrix}\n",
    "        \\longrightarrow\n",
    "    \\end{matrix}\n",
    "    &\n",
    "    \\begin{vmatrix} \n",
    "        x_1 = \\frac{4}{3}t - 100\\\\\n",
    "        x_2 = -\\frac{1}{3}t + 200 \\\\\n",
    "        x_3 = t\n",
    "    \\end{vmatrix} \n",
    "\\end{matrix}\n",
    "$$"
   ]
  },
  {
   "cell_type": "markdown",
   "id": "d55ca2ac",
   "metadata": {},
   "source": [
    "## 3. Coding the Equations\n",
    "\n",
    "<p>Rather than calculation let's use a code to get a visualization of the solution.</p>\n",
    "\n",
    "<p>First we will define a set of functions that represent the equations we developed above, the rooster and hen equations are straight forward.</p>"
   ]
  },
  {
   "cell_type": "code",
   "execution_count": null,
   "id": "2564e1fd",
   "metadata": {},
   "outputs": [],
   "source": [
    "# Import necessary libraries for plotting and array calculations\n",
    "import matplotlib.pyplot as plt\n",
    "import numpy as np\n",
    "\n",
    "#Functions defining the equations to be used\n",
    "def rooster_equation(t):\n",
    "\tresult = (4/3) * t - 100\n",
    "\treturn result\n",
    "\n",
    "def hen_equation(t):\n",
    "\tresult = -(7/3) * t + 200\n",
    "\treturn result"
   ]
  },
  {
   "cell_type": "markdown",
   "id": "12dd1d6b",
   "metadata": {},
   "source": [
    "<p>As the chicks are our free variable we can set them as all the possibilites that it can be, an integer from 0 to 100 (as that is the maximum number of animals we can purchase). We then calculate the free variable as a function of the equations above.</p>"
   ]
  },
  {
   "cell_type": "code",
   "execution_count": null,
   "id": "965281da",
   "metadata": {},
   "outputs": [],
   "source": [
    "# Set the chicks as the x values as they are the free variable from the problem we know the minimum\n",
    "# would be 0 and the maximum 100, the step gives us a desired level of precision and is set to one\n",
    "# as we cannot purchase a fraction of an animal\n",
    "chicks = np.arange(0, 100, step=1)\n",
    "\n",
    "# Calculate the values of roosters and hens as a function of the chicks\n",
    "roosters = rooster_equation(chicks)\n",
    "hens = hen_equation(chicks)"
   ]
  },
  {
   "cell_type": "markdown",
   "id": "1a73129d",
   "metadata": {},
   "source": [
    "## 4. Plotting the Solution?\n",
    "\n",
    "Visualizing this problem may help analyze our solution more easily."
   ]
  },
  {
   "cell_type": "code",
   "execution_count": null,
   "id": "1301a648",
   "metadata": {},
   "outputs": [],
   "source": [
    "# Plot the Rooster and Hen equations\n",
    "plt.plot(chicks,roosters, label = 'Number of Roosters')\n",
    "plt.plot(chicks,hens, label = 'Number of Hens')\n",
    "\n",
    "# Plot Settings\n",
    "plt.grid()\n",
    "plt.legend()\n",
    "plt.xlabel('Number of Chicks')\n",
    "plt.ylabel('Number of Adult Chickens')\n",
    "plt.autoscale(enable=True, axis='both', tight=True)\n",
    "\n",
    "plt.show()"
   ]
  },
  {
   "cell_type": "markdown",
   "id": "a6830bba",
   "metadata": {},
   "source": [
    "<p>How are we to intepret this plot?  Is the answer the intersection of the two lines?</p>\n",
    "\n",
    "<p>To find the intersection we need to find the point where $rooster = hen$ ($x_1 = x_2$).</p>\n",
    "\n",
    "\n",
    "\\begin{eqnarray}\n",
    "    \\frac{4}{3}t - 100 &= -\\frac{7}{3} + 200 \\\\\n",
    "    \\frac{11}{3}t &= 300 \\\\\n",
    "    t &= \\frac{900}{11}\n",
    "\\end{eqnarray}\n",
    "\n",
    "\n",
    "<p>If the two lines intersect at $t = \\frac{900}{11}$, let's calculate the values of the two equations at that value."
   ]
  },
  {
   "cell_type": "code",
   "execution_count": null,
   "id": "9bba63fc",
   "metadata": {},
   "outputs": [],
   "source": [
    "print(rooster_equation(900/11))\n",
    "print(hen_equation(900/11))"
   ]
  },
  {
   "cell_type": "markdown",
   "id": "aa918129",
   "metadata": {},
   "source": [
    "<p>As we know we cannot buy a fraction of an animal (let alone remember $t$ is the number of chicks and also cannot be a fraction), our solution will look a bit different than we have seen so far.</p>"
   ]
  },
  {
   "cell_type": "markdown",
   "id": "f8efb7a5",
   "metadata": {},
   "source": [
    "## 5. Areas of Possibilty\n",
    "\n",
    "<p>Not only can we not purchase a fraction of an animal, we cannot purchase a negative animal either. There is only one area of the graph were both lines are positve.</p>\n",
    "\n",
    "<p>We will create an shaded area where the positive values of the rooster and hen function overlap. Additionally, notating the x-axis will be helpful for visualization.</p>"
   ]
  },
  {
   "cell_type": "code",
   "execution_count": null,
   "id": "27ecf76b",
   "metadata": {},
   "outputs": [],
   "source": [
    "# Create a range for shading. This is determined by taking only the chick values were the rooster\n",
    "# and hen values are both non-negative, as a negative chicken cannot be purchased\n",
    "rooster_hen_overlap = (roosters >= 0) == (hens >= 0)\n",
    "shaded_region = chicks[rooster_hen_overlap]\n",
    "rooster_shade = rooster_equation(shaded_region)\n",
    "hen_shade = hen_equation(shaded_region)\n",
    "\n",
    "# Equation to create an x-axis for visual clarity\n",
    "axis = 0 * chicks"
   ]
  },
  {
   "cell_type": "markdown",
   "id": "79149182",
   "metadata": {},
   "source": [
    "<p>The xlim function will restrict the x-axis to the areas where the rooster and hen lines are both positive and the ylim function will restrict the y-axis to the values or the respective x values.</p>"
   ]
  },
  {
   "cell_type": "code",
   "execution_count": null,
   "id": "e6d2b0a1",
   "metadata": {},
   "outputs": [],
   "source": [
    "# Zoomed in plot\n",
    "# Plot the Rooster and Hen equations\n",
    "plt.plot(chicks,roosters, label = 'Number of Roosters')\n",
    "plt.plot(chicks,hens, label = 'Number of Hens')\n",
    "\n",
    "# Plot the x-axis for visual clarity\n",
    "plt.plot(chicks,axis, color=\"black\")\n",
    "\n",
    "# Shade the area between the equations where there are no negative values for the Rooster or Hen\n",
    "# equations\n",
    "plt.fill_between(shaded_region, hen_shade, rooster_shade, alpha=0.3, color='g', label=\"Overlapping Area\")\n",
    "\n",
    "# Plot Settings\n",
    "plt.grid()\n",
    "plt.legend()\n",
    "plt.xlabel('Number of Chicks')\n",
    "plt.ylabel('Number of Adult Chickens')\n",
    "\n",
    "# Limit the area show to the region of interest\n",
    "plt.xlim(shaded_region[0]-1, shaded_region[-1]+1)\n",
    "plt.ylim(rooster_shade[0]-1, hen_shade[0]+1)\n",
    "\n",
    "plt.show()"
   ]
  },
  {
   "cell_type": "markdown",
   "id": "885c3e50",
   "metadata": {},
   "source": [
    "## 6. Possible Solutions\n",
    "\n",
    "<p>As we now know the area where a solution is possible and we know the restriction that any workable solution in this area must be an integer.</p>"
   ]
  },
  {
   "cell_type": "code",
   "execution_count": null,
   "id": "a13a47ca",
   "metadata": {},
   "outputs": [],
   "source": [
    "# Find the solutions of the problem, the points on the rooster and hen line where the result has no\n",
    "# remainder as no fractional chickens can be purchased\n",
    "rooster_solution = np.remainder(rooster_shade, 1) == 0\n",
    "hen_solution = np.remainder(hen_shade, 1) == 0"
   ]
  },
  {
   "cell_type": "markdown",
   "id": "7b35dca3",
   "metadata": {},
   "source": [
    "<p>We will plot these integer points on the graph above and see that there are multiple possible answers in our solution set.</p>"
   ]
  },
  {
   "cell_type": "code",
   "execution_count": null,
   "id": "3b40685c",
   "metadata": {},
   "outputs": [],
   "source": [
    "#Zoomed in plot with solutions\n",
    "\n",
    "# Plot the Rooster and Hen equations\n",
    "plt.plot(chicks,roosters, label = 'Number of Roosters')\n",
    "plt.plot(chicks,hens, label = 'Number of Hens')\n",
    "\n",
    "# Plot the x-axis for visual clarity\n",
    "plt.plot(chicks,axis, color=\"black\")\n",
    "\n",
    "# Shade the area between the equations where there are no negative values for the Rooster or Hen\n",
    "# equations\n",
    "plt.fill_between(shaded_region, hen_shade, rooster_shade, alpha=0.3, color='g', label=\"Overlapping Area\")\n",
    "\n",
    "# Plot the solutions \n",
    "plt.scatter(shaded_region[rooster_solution], rooster_shade[rooster_solution], color=\"red\", label=\"Solutions\")\n",
    "plt.scatter(shaded_region[hen_solution], hen_shade[hen_solution], color=\"red\")\n",
    "\n",
    "# Plot Settings\n",
    "plt.grid()\n",
    "plt.legend()\n",
    "plt.xlabel('Number of Chicks')\n",
    "plt.ylabel('Number of Adult Chickens')\n",
    "plt.xlim(shaded_region[0]-1, shaded_region[-1]+1)\n",
    "plt.ylim(rooster_shade[0]-1, hen_shade[0]+1)\n",
    "\n",
    "plt.show()"
   ]
  },
  {
   "cell_type": "markdown",
   "id": "73a81e6f",
   "metadata": {},
   "source": [
    "With this visual respresentation we can extract the values that represent our solution."
   ]
  },
  {
   "cell_type": "code",
   "execution_count": null,
   "id": "0b483ab2",
   "metadata": {},
   "outputs": [],
   "source": [
    "[i, j, k] = [rooster_shade[rooster_solution], hen_shade[hen_solution], shaded_region[rooster_solution]]\n",
    "\n",
    "solutions = [(i[x], j[x], k[x]) for x in range(len(i))]\n",
    "print(solutions)"
   ]
  },
  {
   "cell_type": "markdown",
   "id": "c44db713",
   "metadata": {},
   "source": [
    "To more easily read these solutions:"
   ]
  },
  {
   "cell_type": "code",
   "execution_count": null,
   "id": "eda00324",
   "metadata": {},
   "outputs": [],
   "source": [
    "for x in range(len(i)):\n",
    "\tprint(\"Roosters: {0:.0f}, Hens: {1:.0f}, Chicks: {2:.0f}, Total: {3:.0f}\\n\".format(i[x], j[x], k[x], i[x] + j[x] + k[x]))"
   ]
  },
  {
   "cell_type": "markdown",
   "id": "43fe9bae",
   "metadata": {},
   "source": [
    "End of Section"
   ]
  }
 ],
 "metadata": {
  "kernelspec": {
   "display_name": "Python 3",
   "language": "python",
   "name": "python3"
  },
  "language_info": {
   "codemirror_mode": {
    "name": "ipython",
    "version": 3
   },
   "file_extension": ".py",
   "mimetype": "text/x-python",
   "name": "python",
   "nbconvert_exporter": "python",
   "pygments_lexer": "ipython3",
   "version": "3.8.0"
  }
 },
 "nbformat": 4,
 "nbformat_minor": 5
}
